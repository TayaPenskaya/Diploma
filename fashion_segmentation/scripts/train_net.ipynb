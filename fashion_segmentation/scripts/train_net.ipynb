{
 "cells": [
  {
   "cell_type": "markdown",
   "id": "sapphire-collective",
   "metadata": {},
   "source": [
    "## DeepFashion Training Script"
   ]
  },
  {
   "cell_type": "code",
   "execution_count": 2,
   "id": "occupational-security",
   "metadata": {},
   "outputs": [],
   "source": [
    "import detectron2.utils.comm as comm\n",
    "from detectron2.config import get_cfg\n",
    "from detectron2.engine import default_argument_parser, default_setup, hooks, launch\n",
    "from detectron2.evaluation import verify_results\n",
    "from detectron2.utils.file_io import PathManager\n",
    "from detectron2.utils.logger import setup_logger"
   ]
  },
  {
   "cell_type": "code",
   "execution_count": null,
   "id": "operating-grass",
   "metadata": {},
   "outputs": [],
   "source": [
    "def setup(args):\n",
    "    cfg = get_cfg()\n",
    "    add_densepose_config(cfg)\n",
    "    cfg.merge_from_file(args.config_file)\n",
    "    cfg.merge_from_list(args.opts)\n",
    "    cfg.freeze()\n",
    "    default_setup(cfg, args)\n",
    "    # Setup logger for \"densepose\" module\n",
    "    setup_logger(output=cfg.OUTPUT_DIR, distributed_rank=comm.get_rank(), name=\"densepose\")\n",
    "    return cfg"
   ]
  }
 ],
 "metadata": {
  "kernelspec": {
   "display_name": "Python 3",
   "language": "python",
   "name": "python3"
  },
  "language_info": {
   "codemirror_mode": {
    "name": "ipython",
    "version": 3
   },
   "file_extension": ".py",
   "mimetype": "text/x-python",
   "name": "python",
   "nbconvert_exporter": "python",
   "pygments_lexer": "ipython3",
   "version": "3.6.9"
  }
 },
 "nbformat": 4,
 "nbformat_minor": 5
}
