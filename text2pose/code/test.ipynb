{
 "cells": [
  {
   "cell_type": "code",
   "execution_count": 17,
   "id": "maritime-compiler",
   "metadata": {},
   "outputs": [],
   "source": [
    "import torch\n",
    "import torch.nn as nn\n",
    "import torch.nn.functional as F\n",
    "from torch.autograd import Variable\n",
    "\n",
    "import numpy as np\n",
    "\n",
    "from gan.net import Generator, Discriminator\n",
    "from data.mpii import MPIIDataset\n",
    "from utils.vis import draw_keypoints\n",
    "\n",
    "import matplotlib.pyplot as plt\n",
    "import matplotlib.gridspec as gridspec\n",
    "\n",
    "import string\n",
    "from nltk.corpus import stopwords\n",
    "from nltk.tokenize import RegexpTokenizer\n",
    "from nltk.stem import WordNetLemmatizer\n",
    "from itertools import chain\n",
    "from collections import defaultdict\n",
    "from nltk.corpus import wordnet as wn\n",
    "\n",
    "from data.mpii import MPIIDataset\n",
    "from gan.net import Generator\n",
    "\n",
    "import torch\n",
    "import torch.nn as nn\n",
    "import torch.nn.functional as F\n",
    "from torch.autograd import Variable\n",
    "\n",
    "from random import randrange\n",
    "from utils.vis import draw_keypoints\n",
    "\n",
    "import argparse\n",
    "import matplotlib.pyplot as plt\n",
    "import json\n",
    "from os.path import isfile\n",
    "\n",
    "import numpy as np"
   ]
  },
  {
   "cell_type": "code",
   "execution_count": 7,
   "id": "center-indicator",
   "metadata": {},
   "outputs": [],
   "source": [
    "checkpoint = torch.load('models/out_standing/final.pt')"
   ]
  },
  {
   "cell_type": "code",
   "execution_count": 8,
   "id": "trying-visit",
   "metadata": {},
   "outputs": [],
   "source": [
    "gen = Generator().to('cuda')"
   ]
  },
  {
   "cell_type": "code",
   "execution_count": 9,
   "id": "fuzzy-uniform",
   "metadata": {},
   "outputs": [
    {
     "data": {
      "text/plain": [
       "<All keys matched successfully>"
      ]
     },
     "execution_count": 9,
     "metadata": {},
     "output_type": "execute_result"
    }
   ],
   "source": [
    "gen.load_state_dict(checkpoint['g_state_dict'])"
   ]
  },
  {
   "cell_type": "code",
   "execution_count": 10,
   "id": "composed-trauma",
   "metadata": {},
   "outputs": [
    {
     "data": {
      "text/plain": [
       "<All keys matched successfully>"
      ]
     },
     "execution_count": 10,
     "metadata": {},
     "output_type": "execute_result"
    }
   ],
   "source": [
    "d = Discriminator().to('cuda')\n",
    "d.load_state_dict(checkpoint['d_state_dict'])"
   ]
  },
  {
   "cell_type": "code",
   "execution_count": 11,
   "id": "elegant-nirvana",
   "metadata": {},
   "outputs": [],
   "source": [
    "dataset = MPIIDataset('../data/prepared_data/mpii_standing.json')"
   ]
  },
  {
   "cell_type": "code",
   "execution_count": 12,
   "id": "surgical-prospect",
   "metadata": {},
   "outputs": [],
   "source": [
    "noise = Variable(torch.cuda.FloatTensor(np.random.normal(0, 1, (2, 32))), requires_grad=False)"
   ]
  },
  {
   "cell_type": "code",
   "execution_count": 13,
   "id": "metropolitan-screw",
   "metadata": {},
   "outputs": [],
   "source": [
    "out = gen(noise,  Variable(torch.cuda.LongTensor([1], device='cuda'))).cpu().detach().numpy()"
   ]
  },
  {
   "cell_type": "code",
   "execution_count": 14,
   "id": "twelve-wayne",
   "metadata": {},
   "outputs": [
    {
     "data": {
      "image/png": "[encoded data removed]",
      "text/plain": [
       "<Figure size 432x288 with 1 Axes>"
      ]
     },
     "metadata": {
      "needs_background": "light"
     },
     "output_type": "display_data"
    }
   ],
   "source": [
    "draw_keypoints(out[0])"
   ]
  }
 ],
 "metadata": {
  "kernelspec": {
   "display_name": "Python 3",
   "language": "python",
   "name": "python3"
  },
  "language_info": {
   "codemirror_mode": {
    "name": "ipython",
    "version": 3
   },
   "file_extension": ".py",
   "mimetype": "text/x-python",
   "name": "python",
   "nbconvert_exporter": "python",
   "pygments_lexer": "ipython3",
   "version": "3.6.9"
  }
 },
 "nbformat": 4,
 "nbformat_minor": 5
}
