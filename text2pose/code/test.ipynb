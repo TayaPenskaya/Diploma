{
 "cells": [
  {
   "cell_type": "code",
   "execution_count": 14,
   "id": "maritime-compiler",
   "metadata": {},
   "outputs": [],
   "source": [
    "import torch\n",
    "import torch.nn as nn\n",
    "import torch.nn.functional as F\n",
    "from torch.autograd import Variable\n",
    "\n",
    "import numpy as np\n",
    "\n",
    "from net2 import Generator2, Discriminator2\n",
    "from data.mpii import MPIIDataset\n",
    "from utils.vis import draw_keypoints"
   ]
  },
  {
   "cell_type": "code",
   "execution_count": 15,
   "id": "center-indicator",
   "metadata": {},
   "outputs": [],
   "source": [
    "checkpoint = torch.load('out/out_27.05.2021_09:53/1999_model.pt')"
   ]
  },
  {
   "cell_type": "code",
   "execution_count": 16,
   "id": "trying-visit",
   "metadata": {},
   "outputs": [
    {
     "ename": "RuntimeError",
     "evalue": "Error(s) in loading state_dict for Generator2:\n\tUnexpected key(s) in state_dict: \"downtail.9.weight\", \"downtail.9.bias\", \"downtail.10.weight\", \"downtail.10.bias\", \"downtail.10.running_mean\", \"downtail.10.running_var\", \"downtail.10.num_batches_tracked\". \n\tsize mismatch for head1.0.weight: copying a param with shape torch.Size([16, 32]) from checkpoint, the shape in current model is torch.Size([32, 16]).\n\tsize mismatch for head1.0.bias: copying a param with shape torch.Size([16]) from checkpoint, the shape in current model is torch.Size([32]).\n\tsize mismatch for head1.1.weight: copying a param with shape torch.Size([16]) from checkpoint, the shape in current model is torch.Size([32]).\n\tsize mismatch for head1.1.bias: copying a param with shape torch.Size([16]) from checkpoint, the shape in current model is torch.Size([32]).\n\tsize mismatch for head1.1.running_mean: copying a param with shape torch.Size([16]) from checkpoint, the shape in current model is torch.Size([32]).\n\tsize mismatch for head1.1.running_var: copying a param with shape torch.Size([16]) from checkpoint, the shape in current model is torch.Size([32]).\n\tsize mismatch for head1.3.weight: copying a param with shape torch.Size([8, 16]) from checkpoint, the shape in current model is torch.Size([16, 24]).\n\tsize mismatch for head1.3.bias: copying a param with shape torch.Size([8]) from checkpoint, the shape in current model is torch.Size([16]).\n\tsize mismatch for head1.4.weight: copying a param with shape torch.Size([8]) from checkpoint, the shape in current model is torch.Size([16]).\n\tsize mismatch for head1.4.bias: copying a param with shape torch.Size([8]) from checkpoint, the shape in current model is torch.Size([16]).\n\tsize mismatch for head1.4.running_mean: copying a param with shape torch.Size([8]) from checkpoint, the shape in current model is torch.Size([16]).\n\tsize mismatch for head1.4.running_var: copying a param with shape torch.Size([8]) from checkpoint, the shape in current model is torch.Size([16]).\n\tsize mismatch for head2.0.weight: copying a param with shape torch.Size([32, 19]) from checkpoint, the shape in current model is torch.Size([16, 19]).\n\tsize mismatch for head2.0.bias: copying a param with shape torch.Size([32]) from checkpoint, the shape in current model is torch.Size([16]).\n\tsize mismatch for head2.1.weight: copying a param with shape torch.Size([32]) from checkpoint, the shape in current model is torch.Size([16]).\n\tsize mismatch for head2.1.bias: copying a param with shape torch.Size([32]) from checkpoint, the shape in current model is torch.Size([16]).\n\tsize mismatch for head2.1.running_mean: copying a param with shape torch.Size([32]) from checkpoint, the shape in current model is torch.Size([16]).\n\tsize mismatch for head2.1.running_var: copying a param with shape torch.Size([32]) from checkpoint, the shape in current model is torch.Size([16]).\n\tsize mismatch for head2.3.weight: copying a param with shape torch.Size([64, 32]) from checkpoint, the shape in current model is torch.Size([8, 16]).\n\tsize mismatch for head2.3.bias: copying a param with shape torch.Size([64]) from checkpoint, the shape in current model is torch.Size([8]).\n\tsize mismatch for head2.4.weight: copying a param with shape torch.Size([64]) from checkpoint, the shape in current model is torch.Size([8]).\n\tsize mismatch for head2.4.bias: copying a param with shape torch.Size([64]) from checkpoint, the shape in current model is torch.Size([8]).\n\tsize mismatch for head2.4.running_mean: copying a param with shape torch.Size([64]) from checkpoint, the shape in current model is torch.Size([8]).\n\tsize mismatch for head2.4.running_var: copying a param with shape torch.Size([64]) from checkpoint, the shape in current model is torch.Size([8]).\n\tsize mismatch for uptail.0.weight: copying a param with shape torch.Size([128, 72]) from checkpoint, the shape in current model is torch.Size([64, 48]).\n\tsize mismatch for uptail.0.bias: copying a param with shape torch.Size([128]) from checkpoint, the shape in current model is torch.Size([64]).\n\tsize mismatch for uptail.1.weight: copying a param with shape torch.Size([128]) from checkpoint, the shape in current model is torch.Size([64]).\n\tsize mismatch for uptail.1.bias: copying a param with shape torch.Size([128]) from checkpoint, the shape in current model is torch.Size([64]).\n\tsize mismatch for uptail.1.running_mean: copying a param with shape torch.Size([128]) from checkpoint, the shape in current model is torch.Size([64]).\n\tsize mismatch for uptail.1.running_var: copying a param with shape torch.Size([128]) from checkpoint, the shape in current model is torch.Size([64]).\n\tsize mismatch for uptail.3.weight: copying a param with shape torch.Size([192, 128]) from checkpoint, the shape in current model is torch.Size([92, 64]).\n\tsize mismatch for uptail.3.bias: copying a param with shape torch.Size([192]) from checkpoint, the shape in current model is torch.Size([92]).\n\tsize mismatch for uptail.4.weight: copying a param with shape torch.Size([192]) from checkpoint, the shape in current model is torch.Size([92]).\n\tsize mismatch for uptail.4.bias: copying a param with shape torch.Size([192]) from checkpoint, the shape in current model is torch.Size([92]).\n\tsize mismatch for uptail.4.running_mean: copying a param with shape torch.Size([192]) from checkpoint, the shape in current model is torch.Size([92]).\n\tsize mismatch for uptail.4.running_var: copying a param with shape torch.Size([192]) from checkpoint, the shape in current model is torch.Size([92]).\n\tsize mismatch for uptail.6.weight: copying a param with shape torch.Size([256, 192]) from checkpoint, the shape in current model is torch.Size([128, 92]).\n\tsize mismatch for uptail.6.bias: copying a param with shape torch.Size([256]) from checkpoint, the shape in current model is torch.Size([128]).\n\tsize mismatch for uptail.7.weight: copying a param with shape torch.Size([256]) from checkpoint, the shape in current model is torch.Size([128]).\n\tsize mismatch for uptail.7.bias: copying a param with shape torch.Size([256]) from checkpoint, the shape in current model is torch.Size([128]).\n\tsize mismatch for uptail.7.running_mean: copying a param with shape torch.Size([256]) from checkpoint, the shape in current model is torch.Size([128]).\n\tsize mismatch for uptail.7.running_var: copying a param with shape torch.Size([256]) from checkpoint, the shape in current model is torch.Size([128]).\n\tsize mismatch for midtail.0.weight: copying a param with shape torch.Size([512, 256]) from checkpoint, the shape in current model is torch.Size([256, 128]).\n\tsize mismatch for midtail.0.bias: copying a param with shape torch.Size([512]) from checkpoint, the shape in current model is torch.Size([256]).\n\tsize mismatch for midtail.1.weight: copying a param with shape torch.Size([512]) from checkpoint, the shape in current model is torch.Size([256]).\n\tsize mismatch for midtail.1.bias: copying a param with shape torch.Size([512]) from checkpoint, the shape in current model is torch.Size([256]).\n\tsize mismatch for midtail.1.running_mean: copying a param with shape torch.Size([512]) from checkpoint, the shape in current model is torch.Size([256]).\n\tsize mismatch for midtail.1.running_var: copying a param with shape torch.Size([512]) from checkpoint, the shape in current model is torch.Size([256]).\n\tsize mismatch for midtail.3.weight: copying a param with shape torch.Size([256, 512]) from checkpoint, the shape in current model is torch.Size([128, 256]).\n\tsize mismatch for midtail.3.bias: copying a param with shape torch.Size([256]) from checkpoint, the shape in current model is torch.Size([128]).\n\tsize mismatch for midtail.4.weight: copying a param with shape torch.Size([256]) from checkpoint, the shape in current model is torch.Size([128]).\n\tsize mismatch for midtail.4.bias: copying a param with shape torch.Size([256]) from checkpoint, the shape in current model is torch.Size([128]).\n\tsize mismatch for midtail.4.running_mean: copying a param with shape torch.Size([256]) from checkpoint, the shape in current model is torch.Size([128]).\n\tsize mismatch for midtail.4.running_var: copying a param with shape torch.Size([256]) from checkpoint, the shape in current model is torch.Size([128]).\n\tsize mismatch for downtail.0.weight: copying a param with shape torch.Size([192, 256]) from checkpoint, the shape in current model is torch.Size([92, 128]).\n\tsize mismatch for downtail.0.bias: copying a param with shape torch.Size([192]) from checkpoint, the shape in current model is torch.Size([92]).\n\tsize mismatch for downtail.1.weight: copying a param with shape torch.Size([192]) from checkpoint, the shape in current model is torch.Size([92]).\n\tsize mismatch for downtail.1.bias: copying a param with shape torch.Size([192]) from checkpoint, the shape in current model is torch.Size([92]).\n\tsize mismatch for downtail.1.running_mean: copying a param with shape torch.Size([192]) from checkpoint, the shape in current model is torch.Size([92]).\n\tsize mismatch for downtail.1.running_var: copying a param with shape torch.Size([192]) from checkpoint, the shape in current model is torch.Size([92]).\n\tsize mismatch for downtail.3.weight: copying a param with shape torch.Size([128, 192]) from checkpoint, the shape in current model is torch.Size([64, 92]).\n\tsize mismatch for downtail.3.bias: copying a param with shape torch.Size([128]) from checkpoint, the shape in current model is torch.Size([64]).\n\tsize mismatch for downtail.4.weight: copying a param with shape torch.Size([128]) from checkpoint, the shape in current model is torch.Size([64]).\n\tsize mismatch for downtail.4.bias: copying a param with shape torch.Size([128]) from checkpoint, the shape in current model is torch.Size([64]).\n\tsize mismatch for downtail.4.running_mean: copying a param with shape torch.Size([128]) from checkpoint, the shape in current model is torch.Size([64]).\n\tsize mismatch for downtail.4.running_var: copying a param with shape torch.Size([128]) from checkpoint, the shape in current model is torch.Size([64]).\n\tsize mismatch for downtail.6.weight: copying a param with shape torch.Size([64, 128]) from checkpoint, the shape in current model is torch.Size([32, 64]).\n\tsize mismatch for downtail.6.bias: copying a param with shape torch.Size([64]) from checkpoint, the shape in current model is torch.Size([32]).\n\tsize mismatch for downtail.7.weight: copying a param with shape torch.Size([64]) from checkpoint, the shape in current model is torch.Size([32]).\n\tsize mismatch for downtail.7.bias: copying a param with shape torch.Size([64]) from checkpoint, the shape in current model is torch.Size([32]).\n\tsize mismatch for downtail.7.running_mean: copying a param with shape torch.Size([64]) from checkpoint, the shape in current model is torch.Size([32]).\n\tsize mismatch for downtail.7.running_var: copying a param with shape torch.Size([64]) from checkpoint, the shape in current model is torch.Size([32]).",
     "output_type": "error",
     "traceback": [
      "\u001b[0;31m---------------------------------------------------------------------------\u001b[0m",
      "\u001b[0;31mRuntimeError\u001b[0m                              Traceback (most recent call last)",
      "\u001b[0;32m<ipython-input-16-7ca435cb8a03>\u001b[0m in \u001b[0;36m<module>\u001b[0;34m\u001b[0m\n\u001b[1;32m      1\u001b[0m \u001b[0mgen\u001b[0m \u001b[0;34m=\u001b[0m \u001b[0mGenerator2\u001b[0m\u001b[0;34m(\u001b[0m\u001b[0;34m)\u001b[0m\u001b[0;34m.\u001b[0m\u001b[0mto\u001b[0m\u001b[0;34m(\u001b[0m\u001b[0;34m'cuda'\u001b[0m\u001b[0;34m)\u001b[0m\u001b[0;34m\u001b[0m\u001b[0;34m\u001b[0m\u001b[0m\n\u001b[0;32m----> 2\u001b[0;31m \u001b[0mgen\u001b[0m\u001b[0;34m.\u001b[0m\u001b[0mload_state_dict\u001b[0m\u001b[0;34m(\u001b[0m\u001b[0mcheckpoint\u001b[0m\u001b[0;34m[\u001b[0m\u001b[0;34m'g_state_dict'\u001b[0m\u001b[0;34m]\u001b[0m\u001b[0;34m)\u001b[0m\u001b[0;34m\u001b[0m\u001b[0;34m\u001b[0m\u001b[0m\n\u001b[0m",
      "\u001b[0;32m~/Projects/envs/base/lib/python3.6/site-packages/torch/nn/modules/module.py\u001b[0m in \u001b[0;36mload_state_dict\u001b[0;34m(self, state_dict, strict)\u001b[0m\n\u001b[1;32m   1050\u001b[0m         \u001b[0;32mif\u001b[0m \u001b[0mlen\u001b[0m\u001b[0;34m(\u001b[0m\u001b[0merror_msgs\u001b[0m\u001b[0;34m)\u001b[0m \u001b[0;34m>\u001b[0m \u001b[0;36m0\u001b[0m\u001b[0;34m:\u001b[0m\u001b[0;34m\u001b[0m\u001b[0;34m\u001b[0m\u001b[0m\n\u001b[1;32m   1051\u001b[0m             raise RuntimeError('Error(s) in loading state_dict for {}:\\n\\t{}'.format(\n\u001b[0;32m-> 1052\u001b[0;31m                                self.__class__.__name__, \"\\n\\t\".join(error_msgs)))\n\u001b[0m\u001b[1;32m   1053\u001b[0m         \u001b[0;32mreturn\u001b[0m \u001b[0m_IncompatibleKeys\u001b[0m\u001b[0;34m(\u001b[0m\u001b[0mmissing_keys\u001b[0m\u001b[0;34m,\u001b[0m \u001b[0munexpected_keys\u001b[0m\u001b[0;34m)\u001b[0m\u001b[0;34m\u001b[0m\u001b[0;34m\u001b[0m\u001b[0m\n\u001b[1;32m   1054\u001b[0m \u001b[0;34m\u001b[0m\u001b[0m\n",
      "\u001b[0;31mRuntimeError\u001b[0m: Error(s) in loading state_dict for Generator2:\n\tUnexpected key(s) in state_dict: \"downtail.9.weight\", \"downtail.9.bias\", \"downtail.10.weight\", \"downtail.10.bias\", \"downtail.10.running_mean\", \"downtail.10.running_var\", \"downtail.10.num_batches_tracked\". \n\tsize mismatch for head1.0.weight: copying a param with shape torch.Size([16, 32]) from checkpoint, the shape in current model is torch.Size([32, 16]).\n\tsize mismatch for head1.0.bias: copying a param with shape torch.Size([16]) from checkpoint, the shape in current model is torch.Size([32]).\n\tsize mismatch for head1.1.weight: copying a param with shape torch.Size([16]) from checkpoint, the shape in current model is torch.Size([32]).\n\tsize mismatch for head1.1.bias: copying a param with shape torch.Size([16]) from checkpoint, the shape in current model is torch.Size([32]).\n\tsize mismatch for head1.1.running_mean: copying a param with shape torch.Size([16]) from checkpoint, the shape in current model is torch.Size([32]).\n\tsize mismatch for head1.1.running_var: copying a param with shape torch.Size([16]) from checkpoint, the shape in current model is torch.Size([32]).\n\tsize mismatch for head1.3.weight: copying a param with shape torch.Size([8, 16]) from checkpoint, the shape in current model is torch.Size([16, 24]).\n\tsize mismatch for head1.3.bias: copying a param with shape torch.Size([8]) from checkpoint, the shape in current model is torch.Size([16]).\n\tsize mismatch for head1.4.weight: copying a param with shape torch.Size([8]) from checkpoint, the shape in current model is torch.Size([16]).\n\tsize mismatch for head1.4.bias: copying a param with shape torch.Size([8]) from checkpoint, the shape in current model is torch.Size([16]).\n\tsize mismatch for head1.4.running_mean: copying a param with shape torch.Size([8]) from checkpoint, the shape in current model is torch.Size([16]).\n\tsize mismatch for head1.4.running_var: copying a param with shape torch.Size([8]) from checkpoint, the shape in current model is torch.Size([16]).\n\tsize mismatch for head2.0.weight: copying a param with shape torch.Size([32, 19]) from checkpoint, the shape in current model is torch.Size([16, 19]).\n\tsize mismatch for head2.0.bias: copying a param with shape torch.Size([32]) from checkpoint, the shape in current model is torch.Size([16]).\n\tsize mismatch for head2.1.weight: copying a param with shape torch.Size([32]) from checkpoint, the shape in current model is torch.Size([16]).\n\tsize mismatch for head2.1.bias: copying a param with shape torch.Size([32]) from checkpoint, the shape in current model is torch.Size([16]).\n\tsize mismatch for head2.1.running_mean: copying a param with shape torch.Size([32]) from checkpoint, the shape in current model is torch.Size([16]).\n\tsize mismatch for head2.1.running_var: copying a param with shape torch.Size([32]) from checkpoint, the shape in current model is torch.Size([16]).\n\tsize mismatch for head2.3.weight: copying a param with shape torch.Size([64, 32]) from checkpoint, the shape in current model is torch.Size([8, 16]).\n\tsize mismatch for head2.3.bias: copying a param with shape torch.Size([64]) from checkpoint, the shape in current model is torch.Size([8]).\n\tsize mismatch for head2.4.weight: copying a param with shape torch.Size([64]) from checkpoint, the shape in current model is torch.Size([8]).\n\tsize mismatch for head2.4.bias: copying a param with shape torch.Size([64]) from checkpoint, the shape in current model is torch.Size([8]).\n\tsize mismatch for head2.4.running_mean: copying a param with shape torch.Size([64]) from checkpoint, the shape in current model is torch.Size([8]).\n\tsize mismatch for head2.4.running_var: copying a param with shape torch.Size([64]) from checkpoint, the shape in current model is torch.Size([8]).\n\tsize mismatch for uptail.0.weight: copying a param with shape torch.Size([128, 72]) from checkpoint, the shape in current model is torch.Size([64, 48]).\n\tsize mismatch for uptail.0.bias: copying a param with shape torch.Size([128]) from checkpoint, the shape in current model is torch.Size([64]).\n\tsize mismatch for uptail.1.weight: copying a param with shape torch.Size([128]) from checkpoint, the shape in current model is torch.Size([64]).\n\tsize mismatch for uptail.1.bias: copying a param with shape torch.Size([128]) from checkpoint, the shape in current model is torch.Size([64]).\n\tsize mismatch for uptail.1.running_mean: copying a param with shape torch.Size([128]) from checkpoint, the shape in current model is torch.Size([64]).\n\tsize mismatch for uptail.1.running_var: copying a param with shape torch.Size([128]) from checkpoint, the shape in current model is torch.Size([64]).\n\tsize mismatch for uptail.3.weight: copying a param with shape torch.Size([192, 128]) from checkpoint, the shape in current model is torch.Size([92, 64]).\n\tsize mismatch for uptail.3.bias: copying a param with shape torch.Size([192]) from checkpoint, the shape in current model is torch.Size([92]).\n\tsize mismatch for uptail.4.weight: copying a param with shape torch.Size([192]) from checkpoint, the shape in current model is torch.Size([92]).\n\tsize mismatch for uptail.4.bias: copying a param with shape torch.Size([192]) from checkpoint, the shape in current model is torch.Size([92]).\n\tsize mismatch for uptail.4.running_mean: copying a param with shape torch.Size([192]) from checkpoint, the shape in current model is torch.Size([92]).\n\tsize mismatch for uptail.4.running_var: copying a param with shape torch.Size([192]) from checkpoint, the shape in current model is torch.Size([92]).\n\tsize mismatch for uptail.6.weight: copying a param with shape torch.Size([256, 192]) from checkpoint, the shape in current model is torch.Size([128, 92]).\n\tsize mismatch for uptail.6.bias: copying a param with shape torch.Size([256]) from checkpoint, the shape in current model is torch.Size([128]).\n\tsize mismatch for uptail.7.weight: copying a param with shape torch.Size([256]) from checkpoint, the shape in current model is torch.Size([128]).\n\tsize mismatch for uptail.7.bias: copying a param with shape torch.Size([256]) from checkpoint, the shape in current model is torch.Size([128]).\n\tsize mismatch for uptail.7.running_mean: copying a param with shape torch.Size([256]) from checkpoint, the shape in current model is torch.Size([128]).\n\tsize mismatch for uptail.7.running_var: copying a param with shape torch.Size([256]) from checkpoint, the shape in current model is torch.Size([128]).\n\tsize mismatch for midtail.0.weight: copying a param with shape torch.Size([512, 256]) from checkpoint, the shape in current model is torch.Size([256, 128]).\n\tsize mismatch for midtail.0.bias: copying a param with shape torch.Size([512]) from checkpoint, the shape in current model is torch.Size([256]).\n\tsize mismatch for midtail.1.weight: copying a param with shape torch.Size([512]) from checkpoint, the shape in current model is torch.Size([256]).\n\tsize mismatch for midtail.1.bias: copying a param with shape torch.Size([512]) from checkpoint, the shape in current model is torch.Size([256]).\n\tsize mismatch for midtail.1.running_mean: copying a param with shape torch.Size([512]) from checkpoint, the shape in current model is torch.Size([256]).\n\tsize mismatch for midtail.1.running_var: copying a param with shape torch.Size([512]) from checkpoint, the shape in current model is torch.Size([256]).\n\tsize mismatch for midtail.3.weight: copying a param with shape torch.Size([256, 512]) from checkpoint, the shape in current model is torch.Size([128, 256]).\n\tsize mismatch for midtail.3.bias: copying a param with shape torch.Size([256]) from checkpoint, the shape in current model is torch.Size([128]).\n\tsize mismatch for midtail.4.weight: copying a param with shape torch.Size([256]) from checkpoint, the shape in current model is torch.Size([128]).\n\tsize mismatch for midtail.4.bias: copying a param with shape torch.Size([256]) from checkpoint, the shape in current model is torch.Size([128]).\n\tsize mismatch for midtail.4.running_mean: copying a param with shape torch.Size([256]) from checkpoint, the shape in current model is torch.Size([128]).\n\tsize mismatch for midtail.4.running_var: copying a param with shape torch.Size([256]) from checkpoint, the shape in current model is torch.Size([128]).\n\tsize mismatch for downtail.0.weight: copying a param with shape torch.Size([192, 256]) from checkpoint, the shape in current model is torch.Size([92, 128]).\n\tsize mismatch for downtail.0.bias: copying a param with shape torch.Size([192]) from checkpoint, the shape in current model is torch.Size([92]).\n\tsize mismatch for downtail.1.weight: copying a param with shape torch.Size([192]) from checkpoint, the shape in current model is torch.Size([92]).\n\tsize mismatch for downtail.1.bias: copying a param with shape torch.Size([192]) from checkpoint, the shape in current model is torch.Size([92]).\n\tsize mismatch for downtail.1.running_mean: copying a param with shape torch.Size([192]) from checkpoint, the shape in current model is torch.Size([92]).\n\tsize mismatch for downtail.1.running_var: copying a param with shape torch.Size([192]) from checkpoint, the shape in current model is torch.Size([92]).\n\tsize mismatch for downtail.3.weight: copying a param with shape torch.Size([128, 192]) from checkpoint, the shape in current model is torch.Size([64, 92]).\n\tsize mismatch for downtail.3.bias: copying a param with shape torch.Size([128]) from checkpoint, the shape in current model is torch.Size([64]).\n\tsize mismatch for downtail.4.weight: copying a param with shape torch.Size([128]) from checkpoint, the shape in current model is torch.Size([64]).\n\tsize mismatch for downtail.4.bias: copying a param with shape torch.Size([128]) from checkpoint, the shape in current model is torch.Size([64]).\n\tsize mismatch for downtail.4.running_mean: copying a param with shape torch.Size([128]) from checkpoint, the shape in current model is torch.Size([64]).\n\tsize mismatch for downtail.4.running_var: copying a param with shape torch.Size([128]) from checkpoint, the shape in current model is torch.Size([64]).\n\tsize mismatch for downtail.6.weight: copying a param with shape torch.Size([64, 128]) from checkpoint, the shape in current model is torch.Size([32, 64]).\n\tsize mismatch for downtail.6.bias: copying a param with shape torch.Size([64]) from checkpoint, the shape in current model is torch.Size([32]).\n\tsize mismatch for downtail.7.weight: copying a param with shape torch.Size([64]) from checkpoint, the shape in current model is torch.Size([32]).\n\tsize mismatch for downtail.7.bias: copying a param with shape torch.Size([64]) from checkpoint, the shape in current model is torch.Size([32]).\n\tsize mismatch for downtail.7.running_mean: copying a param with shape torch.Size([64]) from checkpoint, the shape in current model is torch.Size([32]).\n\tsize mismatch for downtail.7.running_var: copying a param with shape torch.Size([64]) from checkpoint, the shape in current model is torch.Size([32])."
     ]
    }
   ],
   "source": [
    "gen = Generator2().to('cuda')\n",
    "gen.load_state_dict(checkpoint['g_state_dict'])"
   ]
  },
  {
   "cell_type": "code",
   "execution_count": null,
   "id": "reduced-pillow",
   "metadata": {},
   "outputs": [],
   "source": [
    "d = Discriminator()\n",
    "d.load_state_dict(checkpoint['d_state_dict'])"
   ]
  },
  {
   "cell_type": "code",
   "execution_count": null,
   "id": "elegant-nirvana",
   "metadata": {},
   "outputs": [],
   "source": [
    "dataset = MPIIDataset('../data/mpii.json')"
   ]
  },
  {
   "cell_type": "code",
   "execution_count": null,
   "id": "sporting-cameroon",
   "metadata": {},
   "outputs": [],
   "source": [
    "dataset.cat_names"
   ]
  },
  {
   "cell_type": "code",
   "execution_count": null,
   "id": "remarkable-cyprus",
   "metadata": {},
   "outputs": [],
   "source": [
    "category = dataset.cat_names[:19]\n",
    "print(category[11])"
   ]
  },
  {
   "cell_type": "code",
   "execution_count": null,
   "id": "helpful-flower",
   "metadata": {},
   "outputs": [],
   "source": [
    "label = dataset.one_hot[:19]\n",
    "label = Variable(label.type(torch.cuda.LongTensor))"
   ]
  },
  {
   "cell_type": "code",
   "execution_count": null,
   "id": "surgical-prospect",
   "metadata": {},
   "outputs": [],
   "source": [
    "noise = Variable(torch.cuda.FloatTensor(np.random.normal(0, 1, (19, 32))), requires_grad=False)"
   ]
  },
  {
   "cell_type": "code",
   "execution_count": null,
   "id": "metropolitan-screw",
   "metadata": {},
   "outputs": [],
   "source": [
    "out = gen(noise, label).cpu().detach().numpy()"
   ]
  },
  {
   "cell_type": "code",
   "execution_count": null,
   "id": "capable-poetry",
   "metadata": {
    "scrolled": false
   },
   "outputs": [],
   "source": [
    "i = 0\n",
    "for j in out:\n",
    "    print(category[i])\n",
    "    i += 1\n",
    "    draw_keypoints(j)"
   ]
  },
  {
   "cell_type": "code",
   "execution_count": null,
   "id": "owned-tower",
   "metadata": {},
   "outputs": [],
   "source": [
    "draw_keypoints([[ 0.1688,  0.7625],\n",
    "        [ 0.2437,  0.6864],\n",
    "        [ 0.1220,  1.3411],\n",
    "        [ 0.5487,  0.8860],\n",
    "        [ 0.1804,  0.1332],\n",
    "        [ 0.4840,  0.3490],\n",
    "        [-0.0175,  0.1754],\n",
    "        [ 0.9080,  0.4905],\n",
    "        [ 0.6180,  0.5396],\n",
    "        [ 1.3200,  0.0510],\n",
    "        [ 0.7457,  1.4503],\n",
    "        [ 0.6359,  0.1261],\n",
    "        [ 0.2172, -0.0303],\n",
    "        [-0.0024,  0.5620],\n",
    "        [ 0.5872,  1.1088],\n",
    "        [ 1.1933,  1.8701]])"
   ]
  },
  {
   "cell_type": "code",
   "execution_count": null,
   "id": "thrown-disney",
   "metadata": {},
   "outputs": [],
   "source": [
    "draw_keypoints(dataset[232][0])"
   ]
  },
  {
   "cell_type": "code",
   "execution_count": null,
   "id": "stretch-belfast",
   "metadata": {},
   "outputs": [],
   "source": [
    "label = dataset.one_hot[0]\n",
    "for i in range(len(dataset)):\n",
    "    if (np.array_equal(dataset.one_hot.numpy()[18], dataset[i][1].numpy())):\n",
    "        draw_keypoints(dataset[i][0])"
   ]
  }
 ],
 "metadata": {
  "kernelspec": {
   "display_name": "Python 3",
   "language": "python",
   "name": "python3"
  },
  "language_info": {
   "codemirror_mode": {
    "name": "ipython",
    "version": 3
   },
   "file_extension": ".py",
   "mimetype": "text/x-python",
   "name": "python",
   "nbconvert_exporter": "python",
   "pygments_lexer": "ipython3",
   "version": "3.6.9"
  }
 },
 "nbformat": 4,
 "nbformat_minor": 5
}
