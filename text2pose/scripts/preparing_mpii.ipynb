{
 "cells": [
  {
   "cell_type": "code",
   "execution_count": 80,
   "id": "average-holmes",
   "metadata": {},
   "outputs": [],
   "source": [
    "import dbcollection as dbc\n",
    "import json\n",
    "import os\n",
    "import pandas as pd\n",
    "import numpy as np\n",
    "import matplotlib.pyplot as plt\n",
    "import re"
   ]
  },
  {
   "cell_type": "code",
   "execution_count": 2,
   "id": "executed-estate",
   "metadata": {},
   "outputs": [
    {
     "name": "stdout",
     "output_type": "stream",
     "text": [
      "==> Dataset 'mpii_pose' not found in cache.\n",
      "Proceeding to download the data files...\n",
      "==> Download mpii_pose data to disk...\n",
      "Creating save directory in disk: /home/furiousteabag/dbcollection/downloads/mpii_pose\n",
      "Creating save directory in disk: /home/furiousteabag/dbcollection/mpii_pose\n"
     ]
    },
    {
     "name": "stderr",
     "output_type": "stream",
     "text": [
      "100% (11805608 of 11805608) |############| Elapsed Time: 0:04:29 Time:  0:04:29\n"
     ]
    },
    {
     "name": "stdout",
     "output_type": "stream",
     "text": [
      "patool: Extracting /home/furiousteabag/dbcollection/downloads/mpii_pose/mpii_human_pose_v1.tar.gz ...\n",
      "patool: running /bin/tar --extract -z --file /home/furiousteabag/dbcollection/downloads/mpii_pose/mpii_human_pose_v1.tar.gz --directory /home/furiousteabag/dbcollection/downloads/mpii_pose\n",
      "patool: ... /home/furiousteabag/dbcollection/downloads/mpii_pose/mpii_human_pose_v1.tar.gz extracted to `/home/furiousteabag/dbcollection/downloads/mpii_pose'.\n"
     ]
    },
    {
     "name": "stderr",
     "output_type": "stream",
     "text": [
      "100% (12051 of 12051) |##################| Elapsed Time: 0:00:00 Time:  0:00:00\n"
     ]
    },
    {
     "name": "stdout",
     "output_type": "stream",
     "text": [
      "patool: Extracting /home/furiousteabag/dbcollection/downloads/mpii_pose/mpii_human_pose_v1_u12_2.zip ...\n",
      "patool: ... /home/furiousteabag/dbcollection/downloads/mpii_pose/mpii_human_pose_v1_u12_2.zip extracted to `/home/furiousteabag/dbcollection/downloads/mpii_pose'.\n",
      "==> Dataset download complete.\n",
      "==> Updating the cache manager\n",
      "==> Processed metadata not found for dataset 'mpii_pose', task 'keypoints'.\n",
      "Proceeding to process the metadata for this task...\n",
      "==> Setup directories to store the data files.\n",
      "==> Process 'mpii_pose' metadata to disk...\n",
      "\n",
      "Processing 'keypoints' task:\n",
      "\n",
      "==> Storing metadata to file: /home/furiousteabag/dbcollection/mpii_pose/keypoint.h5\n",
      "\n",
      "==> Loading data annotations from disk... Done.\n",
      "\n",
      "Saving set metadata: train\n",
      "\n",
      "==> Setting up the data fields:\n",
      "> Processing 'image_filenames' metadata... Done.\n",
      "> Processing 'scale' metadata... Done.\n",
      "> Processing 'objpos' metadata... Done.\n",
      "> Processing 'video_ids' metadata... Done.\n",
      "> Processing 'video_names' metadata... Done.\n",
      "> Processing 'frame_sec' metadata... Done.\n",
      "> Processing 'keypoint_labels' metadata... Done.\n",
      "> Processing 'category_name' metadata... Done.\n",
      "> Processing 'activity_name' metadata... Done.\n",
      "> Processing 'activity_id' metadata... Done.\n",
      "> Processing 'single_person' metadata... Done.\n",
      "> Processing 'head_bbox' metadata... Done.\n",
      "> Processing 'keypoints' metadata... Done.\n",
      "> Processing 'object_fields' metadata... Done.\n",
      "> Processing 'object_ids' metadata... Done.\n",
      "\n",
      "==> Setting up ordered lists:\n",
      "> Processing 'list_single_person_per_image' metadata... Done.\n",
      "> Processing 'list_keypoints_per_image' metadata... Done.\n",
      "\n",
      "==> Loading data annotations from disk... Done.\n",
      "\n",
      "Saving set metadata: train01\n",
      "\n",
      "==> Setting up the data fields:\n",
      "> Processing 'image_filenames' metadata... Done.\n",
      "> Processing 'scale' metadata... Done.\n",
      "> Processing 'objpos' metadata... Done.\n",
      "> Processing 'video_ids' metadata... Done.\n",
      "> Processing 'video_names' metadata... Done.\n",
      "> Processing 'frame_sec' metadata... Done.\n",
      "> Processing 'keypoint_labels' metadata... Done.\n",
      "> Processing 'category_name' metadata... Done.\n",
      "> Processing 'activity_name' metadata... Done.\n",
      "> Processing 'activity_id' metadata... Done.\n",
      "> Processing 'single_person' metadata... Done.\n",
      "> Processing 'head_bbox' metadata... Done.\n",
      "> Processing 'keypoints' metadata... Done.\n",
      "> Processing 'object_fields' metadata... Done.\n",
      "> Processing 'object_ids' metadata... Done.\n",
      "\n",
      "==> Setting up ordered lists:\n",
      "> Processing 'list_single_person_per_image' metadata... Done.\n",
      "> Processing 'list_keypoints_per_image' metadata... Done.\n",
      "\n",
      "==> Loading data annotations from disk... Done.\n",
      "\n",
      "Saving set metadata: val01\n",
      "\n",
      "==> Setting up the data fields:\n",
      "> Processing 'image_filenames' metadata... Done.\n",
      "> Processing 'scale' metadata... Done.\n",
      "> Processing 'objpos' metadata... Done.\n",
      "> Processing 'video_ids' metadata... Done.\n",
      "> Processing 'video_names' metadata... Done.\n",
      "> Processing 'frame_sec' metadata... Done.\n",
      "> Processing 'keypoint_labels' metadata... Done.\n",
      "> Processing 'category_name' metadata... Done.\n",
      "> Processing 'activity_name' metadata... Done.\n",
      "> Processing 'activity_id' metadata... Done.\n",
      "> Processing 'single_person' metadata... Done.\n",
      "> Processing 'head_bbox' metadata... Done.\n",
      "> Processing 'keypoints' metadata... Done.\n",
      "> Processing 'object_fields' metadata... Done.\n",
      "> Processing 'object_ids' metadata... Done.\n",
      "\n",
      "==> Setting up ordered lists:\n",
      "> Processing 'list_single_person_per_image' metadata... Done.\n",
      "> Processing 'list_keypoints_per_image' metadata... Done.\n",
      "\n",
      "==> Loading data annotations from disk... Done.\n",
      "\n",
      "Saving set metadata: test\n",
      "\n",
      "==> Setting up the data fields:\n",
      "> Processing 'image_filenames' metadata... Done.\n",
      "> Processing 'scale' metadata... Done.\n",
      "> Processing 'objpos' metadata... Done.\n",
      "> Processing 'video_ids' metadata... Done.\n",
      "> Processing 'video_names' metadata... Done.\n",
      "> Processing 'frame_sec' metadata... Done.\n",
      "> Processing 'keypoint_labels' metadata... Done.\n",
      "> Processing 'category_name' metadata... Done.\n",
      "> Processing 'activity_name' metadata... Done.\n",
      "> Processing 'activity_id' metadata... Done.\n",
      "> Processing 'single_person' metadata... Done.\n",
      "> Processing 'object_fields' metadata... Done.\n",
      "> Processing 'object_ids' metadata... Done.\n",
      "\n",
      "==> Setting up ordered lists:\n",
      "> Processing 'list_single_person_per_image' metadata... Done.\n",
      "==> Updating the cache manager\n",
      "==> Dataset processing complete.\n",
      "==> Load the dataset's metadata.\n",
      "==> Dataset loading complete.\n"
     ]
    }
   ],
   "source": [
    "mpii_pose = dbc.load('mpii_pose')"
   ]
  },
  {
   "cell_type": "code",
   "execution_count": 3,
   "id": "unavailable-breathing",
   "metadata": {},
   "outputs": [
    {
     "data": {
      "text/plain": [
       "DataLoader: mpii_pose ('keypoints' task)"
      ]
     },
     "execution_count": 3,
     "metadata": {},
     "output_type": "execute_result"
    }
   ],
   "source": [
    "mpii_pose"
   ]
  },
  {
   "cell_type": "code",
   "execution_count": 3,
   "id": "arbitrary-length",
   "metadata": {},
   "outputs": [],
   "source": [
    "data = pd.read_csv('../data/kaggle_mpii/mpii_human_pose.csv')"
   ]
  },
  {
   "cell_type": "code",
   "execution_count": 4,
   "id": "excess-milan",
   "metadata": {},
   "outputs": [
    {
     "name": "stdout",
     "output_type": "stream",
     "text": [
      "<class 'pandas.core.frame.DataFrame'>\n",
      "RangeIndex: 17372 entries, 0 to 17371\n",
      "Data columns (total 37 columns):\n",
      " #   Column        Non-Null Count  Dtype  \n",
      "---  ------        --------------  -----  \n",
      " 0   ID            17372 non-null  int64  \n",
      " 1   NAME          17372 non-null  object \n",
      " 2   r ankle_X     17372 non-null  int64  \n",
      " 3   r ankle_Y     17372 non-null  int64  \n",
      " 4   r knee_X      17372 non-null  int64  \n",
      " 5   r knee_Y      17372 non-null  int64  \n",
      " 6   r hip_X       17372 non-null  int64  \n",
      " 7   r hip_Y       17372 non-null  int64  \n",
      " 8   l hip_X       17372 non-null  int64  \n",
      " 9   l hip_Y       17372 non-null  int64  \n",
      " 10  l knee_X      17372 non-null  int64  \n",
      " 11  l knee_Y      17372 non-null  int64  \n",
      " 12  l ankle_X     17372 non-null  int64  \n",
      " 13  l ankle_Y     17372 non-null  int64  \n",
      " 14  pelvis_X      17372 non-null  int64  \n",
      " 15  pelvis_Y      17372 non-null  int64  \n",
      " 16  thorax_X      17372 non-null  int64  \n",
      " 17  thorax_Y      17372 non-null  int64  \n",
      " 18  upper neck_X  17372 non-null  float64\n",
      " 19  upper neck_Y  17372 non-null  float64\n",
      " 20  head top_X    17372 non-null  float64\n",
      " 21  head top_Y    17372 non-null  float64\n",
      " 22  r wrist_X     17372 non-null  int64  \n",
      " 23  r wrist_Y     17372 non-null  int64  \n",
      " 24  r elbow_X     17372 non-null  int64  \n",
      " 25  r elbow_Y     17372 non-null  int64  \n",
      " 26  r shoulder_X  17372 non-null  int64  \n",
      " 27  r shoulder_Y  17372 non-null  int64  \n",
      " 28  l shoulder_X  17372 non-null  int64  \n",
      " 29  l shoulder_Y  17372 non-null  int64  \n",
      " 30  l elbow_X     17372 non-null  int64  \n",
      " 31  l elbow_Y     17372 non-null  int64  \n",
      " 32  l wrist_X     17372 non-null  int64  \n",
      " 33  l wrist_Y     17372 non-null  int64  \n",
      " 34  Scale         17372 non-null  float64\n",
      " 35  Activity      17372 non-null  object \n",
      " 36  Category      17372 non-null  object \n",
      "dtypes: float64(5), int64(29), object(3)\n",
      "memory usage: 4.9+ MB\n"
     ]
    }
   ],
   "source": [
    "data.info()"
   ]
  },
  {
   "cell_type": "code",
   "execution_count": 62,
   "id": "unable-reception",
   "metadata": {},
   "outputs": [],
   "source": [
    "def plotPerColumnDistribution(df, nGraphShown, nGraphPerRow):\n",
    "    nunique = df.nunique()\n",
    "    df = df[[col for col in df if nunique[col] > 1 and nunique[col] < 50]] # For displaying purposes, pick columns that have between 1 and 50 unique values\n",
    "    nRow, nCol = df.shape\n",
    "    columnNames = list(df)\n",
    "    nGraphRow = (nCol + nGraphPerRow - 1) / nGraphPerRow\n",
    "    plt.figure(num = None, facecolor = 'w', edgecolor = 'k')\n",
    "    for i in range(min(nCol, nGraphShown)):\n",
    "        #plt.subplot(nGraphRow, nGraphPerRow, i + 1)\n",
    "        columnDf = df.iloc[:, i]\n",
    "        if (not np.issubdtype(type(columnDf.iloc[0]), np.number)):\n",
    "            valueCounts = columnDf.value_counts()\n",
    "            valueCounts.plot.bar()\n",
    "        else:\n",
    "            columnDf.hist()\n",
    "        plt.ylabel('Counts')\n",
    "        #plt.xticks(rotation = 90)\n",
    "        plt.title('MPII Human Pose Categories')\n",
    "    plt.tight_layout(pad = 1.0, w_pad = 1.0, h_pad = 1.0)\n",
    "    plt.savefig('../imgs/mpii_cats.png')\n",
    "    plt.show()"
   ]
  },
  {
   "cell_type": "code",
   "execution_count": 63,
   "id": "incredible-trustee",
   "metadata": {},
   "outputs": [
    {
     "data": {
      "image/png": "[encoded data removed]",
      "text/plain": [
       "<Figure size 432x288 with 1 Axes>"
      ]
     },
     "metadata": {},
     "output_type": "display_data"
    }
   ],
   "source": [
    "plotPerColumnDistribution(data, 10, 5)"
   ]
  },
  {
   "cell_type": "code",
   "execution_count": 30,
   "id": "moving-clinic",
   "metadata": {},
   "outputs": [
    {
     "data": {
      "text/plain": [
       "12"
      ]
     },
     "execution_count": 30,
     "metadata": {},
     "output_type": "execute_result"
    }
   ],
   "source": [
    "len(data.loc[(data['Activity'].str.contains('sleeping'))])"
   ]
  },
  {
   "cell_type": "code",
   "execution_count": 64,
   "id": "systematic-biology",
   "metadata": {},
   "outputs": [
    {
     "name": "stdout",
     "output_type": "stream",
     "text": [
      "{'volunteer activities', 'sports', 'walking', 'music playing', 'miscellaneous', 'winter activities', 'conditioning exercise', 'inactivity quiet/light', 'dancing', 'bicycling', 'running', 'religious activities', 'transportation', 'home repair', 'occupation', 'home activities', 'water activities', 'lawn and garden', 'fishing and hunting', 'self care', '[]'}\n"
     ]
    }
   ],
   "source": [
    "cats = set(list(data['Category']))\n",
    "print(cats)"
   ]
  },
  {
   "cell_type": "code",
   "execution_count": 32,
   "id": "aging-clothing",
   "metadata": {},
   "outputs": [],
   "source": [
    "with open('../data/mpii_anns/mpii_trainval.json') as f:\n",
    "    mpii_data = json.load(f)"
   ]
  },
  {
   "cell_type": "code",
   "execution_count": 33,
   "id": "capital-bosnia",
   "metadata": {},
   "outputs": [
    {
     "data": {
      "text/plain": [
       "29116"
      ]
     },
     "execution_count": 33,
     "metadata": {},
     "output_type": "execute_result"
    }
   ],
   "source": [
    "len(mpii_data)"
   ]
  },
  {
   "cell_type": "code",
   "execution_count": 34,
   "id": "minor-pregnancy",
   "metadata": {},
   "outputs": [],
   "source": [
    "my_mpii = []"
   ]
  },
  {
   "cell_type": "code",
   "execution_count": 35,
   "id": "upper-roman",
   "metadata": {},
   "outputs": [],
   "source": [
    "good_cats = ['running', 'dancing', 'bicycling', 'walking', 'fishing and hunting']"
   ]
  },
  {
   "cell_type": "code",
   "execution_count": 36,
   "id": "artistic-circulation",
   "metadata": {},
   "outputs": [],
   "source": [
    "good_acts = ['standing', 'sitting', 'skiing', 'swimming', 'cooking', \n",
    "             'driving', 'rock climbing', 'horseback', 'skateboarding',\n",
    "             'yoga', 'canoe', 'training', 'lying']"
   ]
  },
  {
   "cell_type": "code",
   "execution_count": 37,
   "id": "suited-parker",
   "metadata": {},
   "outputs": [
    {
     "data": {
      "text/plain": [
       "19"
      ]
     },
     "execution_count": 37,
     "metadata": {},
     "output_type": "execute_result"
    }
   ],
   "source": [
    "len(good_cats) + len(good_acts) + 1"
   ]
  },
  {
   "cell_type": "code",
   "execution_count": 38,
   "id": "analyzed-clerk",
   "metadata": {},
   "outputs": [],
   "source": [
    "for i in mpii_data:\n",
    "    name = i['image']\n",
    "    cat = data.loc[data['NAME'] == name]['Category'].values\n",
    "    act = data.loc[data['NAME'] == name]['Activity'].values\n",
    "    if len(cat) > 0:\n",
    "        if (cat[0] in good_cats):\n",
    "            i['category'] = cat[0]\n",
    "            my_mpii.append(i)\n",
    "        elif (cat[0] == 'sports' and bool(re.search('\\wball', act[0]))):\n",
    "            i['category'] = 'sport with ball'\n",
    "            my_mpii.append(i)\n",
    "        else:\n",
    "            for good_act in good_acts:\n",
    "                if good_act in act[0]:\n",
    "                    i['category'] = good_act\n",
    "                    my_mpii.append(i)"
   ]
  },
  {
   "cell_type": "code",
   "execution_count": 326,
   "id": "duplicate-vegetarian",
   "metadata": {},
   "outputs": [],
   "source": [
    "with open('../data/mpii.json', 'w') as f:\n",
    "    json.dump(my_mpii, f)"
   ]
  },
  {
   "cell_type": "code",
   "execution_count": 55,
   "id": "interpreted-interstate",
   "metadata": {},
   "outputs": [],
   "source": [
    "cats = ['running', 'dancing', 'bicycling', 'walking', 'fishing and hunting', 'sport with ball',\n",
    "                           'standing', 'sitting', 'skiing', 'swimming', 'cooking', 'driving', 'rock climbing', \n",
    "                           'horseback', 'skateboarding', 'yoga', 'canoe', 'training', 'lying']"
   ]
  },
  {
   "cell_type": "code",
   "execution_count": 104,
   "id": "mature-japan",
   "metadata": {},
   "outputs": [],
   "source": [
    "two_cats_mpii = []"
   ]
  },
  {
   "cell_type": "code",
   "execution_count": 105,
   "id": "boolean-welsh",
   "metadata": {},
   "outputs": [],
   "source": [
    "two_acts = ['standing', 'sitting']\n",
    "\n",
    "for i in mpii_data:\n",
    "    name = i['image']\n",
    "    cat = data.loc[data['NAME'] == name]['Category'].values\n",
    "    act = data.loc[data['NAME'] == name]['Activity'].values\n",
    "    if len(cat) > 0:\n",
    "        for act_ in two_acts:\n",
    "                if act_ in act[0]:\n",
    "                    i['category'] = act_\n",
    "                    two_cats_mpii.append(i)"
   ]
  },
  {
   "cell_type": "code",
   "execution_count": 106,
   "id": "diverse-mapping",
   "metadata": {},
   "outputs": [
    {
     "data": {
      "text/plain": [
       "3796"
      ]
     },
     "execution_count": 106,
     "metadata": {},
     "output_type": "execute_result"
    }
   ],
   "source": [
    "len(two_cats_mpii)"
   ]
  },
  {
   "cell_type": "code",
   "execution_count": 107,
   "id": "patient-three",
   "metadata": {},
   "outputs": [],
   "source": [
    "with open('../data/mpii2cats.json', 'w') as f:\n",
    "    json.dump(two_cats_mpii, f)"
   ]
  },
  {
   "cell_type": "code",
   "execution_count": 56,
   "id": "artificial-suspect",
   "metadata": {},
   "outputs": [],
   "source": [
    "df = pd.read_json('../data/mpii.json')"
   ]
  },
  {
   "cell_type": "code",
   "execution_count": 60,
   "id": "intended-alaska",
   "metadata": {},
   "outputs": [
    {
     "data": {
      "text/plain": [
       "Text(0.5, 1.0, 'My Categories')"
      ]
     },
     "execution_count": 60,
     "metadata": {},
     "output_type": "execute_result"
    },
    {
     "data": {
      "image/png": "[encoded data removed]",
      "text/plain": [
       "<Figure size 432x288 with 1 Axes>"
      ]
     },
     "metadata": {
      "needs_background": "light"
     },
     "output_type": "display_data"
    }
   ],
   "source": [
    "plot = df['category'].value_counts().plot(kind='bar');\n",
    "plot.set_ylabel('Counts')\n",
    "plot.set_title('My Categories')"
   ]
  },
  {
   "cell_type": "code",
   "execution_count": 89,
   "id": "mechanical-bracket",
   "metadata": {},
   "outputs": [],
   "source": [
    "j = df[df['category'] == 'sitting'].iloc[[2]]['joints'].values"
   ]
  },
  {
   "cell_type": "code",
   "execution_count": 61,
   "id": "solar-letters",
   "metadata": {},
   "outputs": [],
   "source": [
    "fig = plot.get_figure()\n",
    "\n",
    "fig.tight_layout(pad = 1.0, w_pad = 1.0, h_pad = 1.0)\n",
    "fig.savefig('../imgs/my_cats.png')"
   ]
  },
  {
   "cell_type": "code",
   "execution_count": 331,
   "id": "worth-peninsula",
   "metadata": {},
   "outputs": [],
   "source": [
    "import torch"
   ]
  },
  {
   "cell_type": "code",
   "execution_count": 360,
   "id": "banner-soundtrack",
   "metadata": {},
   "outputs": [],
   "source": [
    "target = torch.randint(0, 19, (19,))\n",
    "one_hot = torch.nn.functional.one_hot(torch.arange(0, 19))"
   ]
  },
  {
   "cell_type": "code",
   "execution_count": 537,
   "id": "authentic-indie",
   "metadata": {},
   "outputs": [],
   "source": [
    "j = my_mpii[12110]"
   ]
  },
  {
   "cell_type": "code",
   "execution_count": 538,
   "id": "medical-springfield",
   "metadata": {},
   "outputs": [],
   "source": [
    "j = j['joints']"
   ]
  },
  {
   "cell_type": "code",
   "execution_count": 540,
   "id": "automatic-fight",
   "metadata": {},
   "outputs": [],
   "source": [
    "j = [[y/256 for y in x] for x in j]"
   ]
  },
  {
   "cell_type": "code",
   "execution_count": 81,
   "id": "covered-animation",
   "metadata": {},
   "outputs": [],
   "source": [
    "def draw_keypoints(kps, verbose=False):\n",
    "    lines = [(0,1),(1,2),(2,6),(6,3),(3,4),(4,5),(6,7),(7,8),(8,9),(10,11),(11,12),(12,7),(7,13),(13,14),(14,15)]\n",
    "    pose_dict = {0: 'right_ankle',\n",
    "        1: 'right_knee',\n",
    "        2: 'right_hip',\n",
    "        3: 'left_hip',\n",
    "        4: 'left_knee',\n",
    "        5: 'left_ankle',\n",
    "        6: 'pelvis',\n",
    "        7: 'thorax',\n",
    "        8: 'upper_neck',\n",
    "        9: 'head_top',\n",
    "        10: 'right_wrist',\n",
    "        11: 'right_elbow',\n",
    "        12: 'right_shoulder',\n",
    "        13: 'left_shoulder',\n",
    "        14: 'left_elbow',\n",
    "        15: 'left_wrist'}\n",
    "\n",
    "    joints = []\n",
    "    for i in range(len(kps)):\n",
    "        joint = kps[i]\n",
    "        joint_x = joint[0]*(-1)\n",
    "        joint_y = joint[1]*(-1)\n",
    "        #if (joint_x > 0):\n",
    "        plt.scatter(joint_x, joint_y, s=10, c='red', marker='o', label=i)\n",
    "        if (verbose):\n",
    "            plt.annotate(pose_dict[i], (joint_x, joint_y))\n",
    "        \n",
    "    for l in lines:\n",
    "        j1 = kps[l[0]]\n",
    "        j2 = kps[l[1]]\n",
    "        #if (j1[0] > 0 and j2[0] > 0):\n",
    "        x = [j1[0]*(-1), j2[0]*(-1)]\n",
    "        y = [j1[1]*(-1), j2[1]*(-1)]\n",
    "        plt.plot(x, y)\n",
    "    plt.show()"
   ]
  },
  {
   "cell_type": "code",
   "execution_count": 93,
   "id": "short-university",
   "metadata": {},
   "outputs": [
    {
     "data": {
      "image/png": "[encoded data removed]",
      "text/plain": [
       "<Figure size 432x288 with 1 Axes>"
      ]
     },
     "metadata": {
      "needs_background": "light"
     },
     "output_type": "display_data"
    }
   ],
   "source": [
    "draw_keypoints(j[0])"
   ]
  }
 ],
 "metadata": {
  "kernelspec": {
   "display_name": "Python 3",
   "language": "python",
   "name": "python3"
  },
  "language_info": {
   "codemirror_mode": {
    "name": "ipython",
    "version": 3
   },
   "file_extension": ".py",
   "mimetype": "text/x-python",
   "name": "python",
   "nbconvert_exporter": "python",
   "pygments_lexer": "ipython3",
   "version": "3.6.9"
  }
 },
 "nbformat": 4,
 "nbformat_minor": 5
}
