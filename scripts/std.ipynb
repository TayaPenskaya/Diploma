{
 "cells": [
  {
   "cell_type": "code",
   "execution_count": 1,
   "id": "controlled-annual",
   "metadata": {},
   "outputs": [],
   "source": [
    "import pandas as pd"
   ]
  },
  {
   "cell_type": "code",
   "execution_count": 2,
   "id": "adjusted-affiliate",
   "metadata": {},
   "outputs": [],
   "source": [
    "df = pd.read_csv('data.csv')"
   ]
  },
  {
   "cell_type": "code",
   "execution_count": 3,
   "id": "sunrise-prayer",
   "metadata": {},
   "outputs": [
    {
     "data": {
      "text/html": [
       "<div>\n",
       "<style scoped>\n",
       "    .dataframe tbody tr th:only-of-type {\n",
       "        vertical-align: middle;\n",
       "    }\n",
       "\n",
       "    .dataframe tbody tr th {\n",
       "        vertical-align: top;\n",
       "    }\n",
       "\n",
       "    .dataframe thead th {\n",
       "        text-align: right;\n",
       "    }\n",
       "</style>\n",
       "<table border=\"1\" class=\"dataframe\">\n",
       "  <thead>\n",
       "    <tr style=\"text-align: right;\">\n",
       "      <th></th>\n",
       "      <th>Отметка времени</th>\n",
       "      <th>1.</th>\n",
       "      <th>2.</th>\n",
       "      <th>3.</th>\n",
       "      <th>4.</th>\n",
       "      <th>5.</th>\n",
       "      <th>6.</th>\n",
       "      <th>7.</th>\n",
       "      <th>8.</th>\n",
       "      <th>9.</th>\n",
       "      <th>10.</th>\n",
       "    </tr>\n",
       "  </thead>\n",
       "  <tbody>\n",
       "    <tr>\n",
       "      <th>0</th>\n",
       "      <td>2021/06/10 10:00:42 AM GMT+3</td>\n",
       "      <td>Да</td>\n",
       "      <td>Да</td>\n",
       "      <td>Да</td>\n",
       "      <td>Да</td>\n",
       "      <td>Да</td>\n",
       "      <td>Да</td>\n",
       "      <td>Да</td>\n",
       "      <td>Да</td>\n",
       "      <td>Да</td>\n",
       "      <td>Да</td>\n",
       "    </tr>\n",
       "    <tr>\n",
       "      <th>1</th>\n",
       "      <td>2021/06/10 10:14:07 AM GMT+3</td>\n",
       "      <td>Да</td>\n",
       "      <td>Нет</td>\n",
       "      <td>Да</td>\n",
       "      <td>Нет</td>\n",
       "      <td>Да</td>\n",
       "      <td>Нет</td>\n",
       "      <td>Да</td>\n",
       "      <td>Да</td>\n",
       "      <td>Нет</td>\n",
       "      <td>Да</td>\n",
       "    </tr>\n",
       "    <tr>\n",
       "      <th>2</th>\n",
       "      <td>2021/06/10 10:18:14 AM GMT+3</td>\n",
       "      <td>Да</td>\n",
       "      <td>Да</td>\n",
       "      <td>Нет</td>\n",
       "      <td>Нет</td>\n",
       "      <td>Да</td>\n",
       "      <td>Да</td>\n",
       "      <td>Да</td>\n",
       "      <td>Да</td>\n",
       "      <td>Нет</td>\n",
       "      <td>Да</td>\n",
       "    </tr>\n",
       "    <tr>\n",
       "      <th>3</th>\n",
       "      <td>2021/06/10 10:20:39 AM GMT+3</td>\n",
       "      <td>Да</td>\n",
       "      <td>Да</td>\n",
       "      <td>Да</td>\n",
       "      <td>Да</td>\n",
       "      <td>Да</td>\n",
       "      <td>Да</td>\n",
       "      <td>Да</td>\n",
       "      <td>Да</td>\n",
       "      <td>Да</td>\n",
       "      <td>Да</td>\n",
       "    </tr>\n",
       "    <tr>\n",
       "      <th>4</th>\n",
       "      <td>2021/06/10 10:25:52 AM GMT+3</td>\n",
       "      <td>Да</td>\n",
       "      <td>Нет</td>\n",
       "      <td>Да</td>\n",
       "      <td>Нет</td>\n",
       "      <td>Нет</td>\n",
       "      <td>Да</td>\n",
       "      <td>Да</td>\n",
       "      <td>Да</td>\n",
       "      <td>Нет</td>\n",
       "      <td>Нет</td>\n",
       "    </tr>\n",
       "  </tbody>\n",
       "</table>\n",
       "</div>"
      ],
      "text/plain": [
       "                Отметка времени  1.   2.   3.   4.   5.   6.  7.  8.   9.  10.\n",
       "0  2021/06/10 10:00:42 AM GMT+3  Да   Да   Да   Да   Да   Да  Да  Да   Да   Да\n",
       "1  2021/06/10 10:14:07 AM GMT+3  Да  Нет   Да  Нет   Да  Нет  Да  Да  Нет   Да\n",
       "2  2021/06/10 10:18:14 AM GMT+3  Да   Да  Нет  Нет   Да   Да  Да  Да  Нет   Да\n",
       "3  2021/06/10 10:20:39 AM GMT+3  Да   Да   Да   Да   Да   Да  Да  Да   Да   Да\n",
       "4  2021/06/10 10:25:52 AM GMT+3  Да  Нет   Да  Нет  Нет   Да  Да  Да  Нет  Нет"
      ]
     },
     "execution_count": 3,
     "metadata": {},
     "output_type": "execute_result"
    }
   ],
   "source": [
    "df.head()"
   ]
  },
  {
   "cell_type": "code",
   "execution_count": 4,
   "id": "hawaiian-principal",
   "metadata": {},
   "outputs": [],
   "source": [
    "df = df.replace({'Да':1, 'Нет':0})"
   ]
  },
  {
   "cell_type": "code",
   "execution_count": 5,
   "id": "qualified-sheet",
   "metadata": {},
   "outputs": [],
   "source": [
    "n = df.count()[0]"
   ]
  },
  {
   "cell_type": "code",
   "execution_count": 6,
   "id": "upper-professor",
   "metadata": {},
   "outputs": [],
   "source": [
    "sqrt_n = n**(1/2)"
   ]
  },
  {
   "cell_type": "code",
   "execution_count": 7,
   "id": "cooked-shell",
   "metadata": {},
   "outputs": [],
   "source": [
    "std = df.std()"
   ]
  },
  {
   "cell_type": "code",
   "execution_count": 8,
   "id": "honey-income",
   "metadata": {},
   "outputs": [],
   "source": [
    "mean = df.mean()"
   ]
  },
  {
   "cell_type": "code",
   "execution_count": 9,
   "id": "conservative-stand",
   "metadata": {},
   "outputs": [],
   "source": [
    "z = 1.96"
   ]
  },
  {
   "cell_type": "code",
   "execution_count": 10,
   "id": "expected-latest",
   "metadata": {},
   "outputs": [],
   "source": [
    "neg_i = mean - z * (std / sqrt_n)"
   ]
  },
  {
   "cell_type": "code",
   "execution_count": 11,
   "id": "fallen-printing",
   "metadata": {},
   "outputs": [],
   "source": [
    "pos_i = mean + z * (std / sqrt_n)"
   ]
  },
  {
   "cell_type": "code",
   "execution_count": 12,
   "id": "successful-shark",
   "metadata": {},
   "outputs": [
    {
     "data": {
      "text/plain": [
       "0.3679982083479329"
      ]
     },
     "execution_count": 12,
     "metadata": {},
     "output_type": "execute_result"
    }
   ],
   "source": [
    "sum(std)/std.size"
   ]
  },
  {
   "cell_type": "code",
   "execution_count": 13,
   "id": "essential-disco",
   "metadata": {},
   "outputs": [
    {
     "data": {
      "text/plain": [
       "0.7950000000000002"
      ]
     },
     "execution_count": 13,
     "metadata": {},
     "output_type": "execute_result"
    }
   ],
   "source": [
    "sum(mean)/mean.size"
   ]
  },
  {
   "cell_type": "code",
   "execution_count": 14,
   "id": "naval-desperate",
   "metadata": {},
   "outputs": [
    {
     "data": {
      "text/plain": [
       "0.6337176741450348"
      ]
     },
     "execution_count": 14,
     "metadata": {},
     "output_type": "execute_result"
    }
   ],
   "source": [
    "sum(neg_i)/neg_i.size"
   ]
  },
  {
   "cell_type": "code",
   "execution_count": 15,
   "id": "greek-praise",
   "metadata": {},
   "outputs": [
    {
     "data": {
      "text/plain": [
       "0.9562823258549653"
      ]
     },
     "execution_count": 15,
     "metadata": {},
     "output_type": "execute_result"
    }
   ],
   "source": [
    "sum(pos_i)/pos_i.size"
   ]
  }
 ],
 "metadata": {
  "kernelspec": {
   "display_name": "Python 3",
   "language": "python",
   "name": "python3"
  },
  "language_info": {
   "codemirror_mode": {
    "name": "ipython",
    "version": 3
   },
   "file_extension": ".py",
   "mimetype": "text/x-python",
   "name": "python",
   "nbconvert_exporter": "python",
   "pygments_lexer": "ipython3",
   "version": "3.6.9"
  }
 },
 "nbformat": 4,
 "nbformat_minor": 5
}
