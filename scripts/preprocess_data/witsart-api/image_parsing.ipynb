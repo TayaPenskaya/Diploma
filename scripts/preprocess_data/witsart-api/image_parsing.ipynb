{
 "cells": [
  {
   "cell_type": "code",
   "execution_count": 1,
   "metadata": {},
   "outputs": [],
   "source": [
    "import requests"
   ]
  },
  {
   "cell_type": "code",
   "execution_count": 2,
   "metadata": {},
   "outputs": [],
   "source": [
    "headers = {\n",
    "    'Content-Type': 'application/json',\n",
    "}\n",
    "\n",
    "data = '{\"text\": \"people\", \"author\": \"\", \"title\": \"\", \"genre\": \"\", \"c olor\": \"red\", \"models\": [-1]}'"
   ]
  },
  {
   "cell_type": "code",
   "execution_count": 3,
   "metadata": {},
   "outputs": [
    {
     "name": "stdout",
     "output_type": "stream",
     "text": [
      "65\n",
      "65\n",
      "usage: sleep seconds\n",
      "130\n",
      "65\n",
      "usage: sleep seconds\n"
     ]
    }
   ],
   "source": [
    "images = []\n",
    "for i in range(2):\n",
    "    response = requests.post('https://witsart.com/api/images/result', headers=headers, data=data)\n",
    "    temp = list(map(lambda x: x['full'], response.json()['frontalImages']))\n",
    "    images += temp\n",
    "    print(len(images))\n",
    "    images = list(set(images))\n",
    "    print(len(images))\n",
    "    !sleep 60 seconds"
   ]
  }
 ],
 "metadata": {
  "kernelspec": {
   "display_name": "Python 3",
   "language": "python",
   "name": "python3"
  },
  "language_info": {
   "codemirror_mode": {
    "name": "ipython",
    "version": 3
   },
   "file_extension": ".py",
   "mimetype": "text/x-python",
   "name": "python",
   "nbconvert_exporter": "python",
   "pygments_lexer": "ipython3",
   "version": "3.8.3"
  }
 },
 "nbformat": 4,
 "nbformat_minor": 4
}
