{
 "cells": [
  {
   "cell_type": "code",
   "execution_count": 1,
   "metadata": {},
   "outputs": [],
   "source": [
    "import shutil, os"
   ]
  },
  {
   "cell_type": "code",
   "execution_count": 2,
   "metadata": {},
   "outputs": [],
   "source": [
    "# clean and rebuild the image folders\n",
    "input_folder = '../data/test/input'\n",
    "# if os.path.exists(input_folder):\n",
    "#     shutil.rmtree(input_folder)\n",
    "# os.makedirs(input_folder)\n",
    "\n",
    "output_folder = '../data/test/input'\n",
    "if os.path.exists(output_folder):\n",
    "    shutil.rmtree(output_folder)\n",
    "os.makedirs(output_folder)"
   ]
  },
  {
   "cell_type": "code",
   "execution_count": 11,
   "metadata": {},
   "outputs": [
    {
     "name": "stdout",
     "output_type": "stream",
     "text": [
      "Traceback (most recent call last):\r\n",
      "  File \"image_matting/inference.py\", line 5, in <module>\r\n",
      "    from PIL import Image\r\n",
      "ModuleNotFoundError: No module named 'PIL'\r\n"
     ]
    }
   ],
   "source": [
    "!python3 image_matting/inference.py \\\n",
    "        --input-path ../data/test/input \\\n",
    "        --output-path ../data/test/input \\\n",
    "        --ckpt-path ./pretrained/modnet_photographic_portrait_matting.ckpt"
   ]
  },
  {
   "cell_type": "code",
   "execution_count": null,
   "metadata": {},
   "outputs": [],
   "source": []
  }
 ],
 "metadata": {
  "kernelspec": {
   "display_name": "Python 3",
   "language": "python",
   "name": "python3"
  },
  "language_info": {
   "codemirror_mode": {
    "name": "ipython",
    "version": 3
   },
   "file_extension": ".py",
   "mimetype": "text/x-python",
   "name": "python",
   "nbconvert_exporter": "python",
   "pygments_lexer": "ipython3",
   "version": "3.9.1"
  }
 },
 "nbformat": 4,
 "nbformat_minor": 4
}
